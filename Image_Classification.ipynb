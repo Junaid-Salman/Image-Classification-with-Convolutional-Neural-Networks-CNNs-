{
  "nbformat": 4,
  "nbformat_minor": 0,
  "metadata": {
    "colab": {
      "provenance": []
    },
    "kernelspec": {
      "name": "python3",
      "display_name": "Python 3"
    },
    "language_info": {
      "name": "python"
    }
  },
  "cells": [
    {
      "cell_type": "code",
      "execution_count": 2,
      "metadata": {
        "id": "wIMhUHaG9Mom"
      },
      "outputs": [],
      "source": [
        "import tensorflow as tf\n",
        "from tensorflow.keras import layers, models\n",
        "from tensorflow.keras.preprocessing.image import ImageDataGenerator\n",
        "from sklearn.metrics import confusion_matrix, classification_report\n",
        "import numpy as np\n",
        "import matplotlib.pyplot as plt"
      ]
    },
    {
      "cell_type": "markdown",
      "source": [
        "## Load MNIST in TensorFlow"
      ],
      "metadata": {
        "id": "8CrkTj9X9n65"
      }
    },
    {
      "cell_type": "code",
      "source": [
        "# Load the dataset\n",
        "(x_train, y_train), (x_test, y_test) = tf.keras.datasets.mnist.load_data()\n",
        "\n",
        "# Normalize the data (optional, but recommended)\n",
        "x_train = x_train / 255.0\n",
        "x_test = x_test / 255.0\n",
        "\n",
        "# Print dataset shape\n",
        "print(f\"Training data shape: {x_train.shape}, Training labels shape: {y_train.shape}\")\n",
        "print(f\"Test data shape: {x_test.shape}, Test labels shape: {y_test.shape}\")\n"
      ],
      "metadata": {
        "colab": {
          "base_uri": "https://localhost:8080/"
        },
        "id": "jUnOInBl9bz2",
        "outputId": "bbb5877e-e5db-4613-80dd-e379c1b01416"
      },
      "execution_count": 3,
      "outputs": [
        {
          "output_type": "stream",
          "name": "stdout",
          "text": [
            "Downloading data from https://storage.googleapis.com/tensorflow/tf-keras-datasets/mnist.npz\n",
            "\u001b[1m11490434/11490434\u001b[0m \u001b[32m━━━━━━━━━━━━━━━━━━━━\u001b[0m\u001b[37m\u001b[0m \u001b[1m0s\u001b[0m 0us/step\n",
            "Training data shape: (60000, 28, 28), Training labels shape: (60000,)\n",
            "Test data shape: (10000, 28, 28), Test labels shape: (10000,)\n"
          ]
        }
      ]
    },
    {
      "cell_type": "code",
      "source": [
        "# Add an additional dimension for the channels (grayscale images)\n",
        "x_train = np.expand_dims(x_train, axis=-1)\n",
        "x_test = np.expand_dims(x_test, axis=-1)"
      ],
      "metadata": {
        "id": "hYllJe1s-wJa"
      },
      "execution_count": 4,
      "outputs": []
    },
    {
      "cell_type": "code",
      "source": [
        "# Data augmentation\n",
        "datagen = ImageDataGenerator(\n",
        "    rotation_range=10,\n",
        "    zoom_range=0.1,\n",
        "    width_shift_range=0.1,\n",
        "    height_shift_range=0.1\n",
        ")\n",
        "datagen.fit(x_train)"
      ],
      "metadata": {
        "id": "U2s1PaXl-9y6"
      },
      "execution_count": 5,
      "outputs": []
    },
    {
      "cell_type": "markdown",
      "source": [
        "## Model"
      ],
      "metadata": {
        "id": "CX3V6IBL_GFE"
      }
    },
    {
      "cell_type": "code",
      "source": [
        "# Define the CNN model\n",
        "model = models.Sequential([\n",
        "    layers.Conv2D(32, (3, 3), activation='relu', input_shape=(28, 28, 1)),\n",
        "    layers.BatchNormalization(),\n",
        "    layers.Conv2D(64, (3, 3), activation='relu'),\n",
        "    layers.BatchNormalization(),\n",
        "    layers.MaxPooling2D((2, 2)),\n",
        "    layers.Dropout(0.25),\n",
        "\n",
        "    layers.Conv2D(128, (3, 3), activation='relu'),\n",
        "    layers.BatchNormalization(),\n",
        "    layers.MaxPooling2D((2, 2)),\n",
        "    layers.Dropout(0.25),\n",
        "\n",
        "    layers.Flatten(),\n",
        "    layers.Dense(128, activation='relu'),\n",
        "    layers.BatchNormalization(),\n",
        "    layers.Dropout(0.5),\n",
        "    layers.Dense(10, activation='softmax')\n",
        "])"
      ],
      "metadata": {
        "colab": {
          "base_uri": "https://localhost:8080/"
        },
        "id": "-oK2sn7Q-_0x",
        "outputId": "40b91fef-b2b5-437d-ca8a-d3120d818c0b"
      },
      "execution_count": 6,
      "outputs": [
        {
          "output_type": "stream",
          "name": "stderr",
          "text": [
            "/usr/local/lib/python3.10/dist-packages/keras/src/layers/convolutional/base_conv.py:107: UserWarning: Do not pass an `input_shape`/`input_dim` argument to a layer. When using Sequential models, prefer using an `Input(shape)` object as the first layer in the model instead.\n",
            "  super().__init__(activity_regularizer=activity_regularizer, **kwargs)\n"
          ]
        }
      ]
    },
    {
      "cell_type": "code",
      "source": [
        "# Compile the model\n",
        "model.compile(optimizer='adam',\n",
        "              loss='sparse_categorical_crossentropy',\n",
        "              metrics=['accuracy'])"
      ],
      "metadata": {
        "id": "6IMrWuDT_Mx5"
      },
      "execution_count": 7,
      "outputs": []
    },
    {
      "cell_type": "code",
      "source": [
        "# Train the model with data augmentation\n",
        "history = model.fit(datagen.flow(x_train, y_train, batch_size=32),\n",
        "                    epochs=10,\n",
        "                    validation_data=(x_test, y_test))"
      ],
      "metadata": {
        "colab": {
          "base_uri": "https://localhost:8080/"
        },
        "id": "h8G-_GLP_SRq",
        "outputId": "8dc61f14-c89f-435c-b7ee-cdeb7f5a36ff"
      },
      "execution_count": 8,
      "outputs": [
        {
          "output_type": "stream",
          "name": "stdout",
          "text": [
            "Epoch 1/10\n"
          ]
        },
        {
          "output_type": "stream",
          "name": "stderr",
          "text": [
            "/usr/local/lib/python3.10/dist-packages/keras/src/trainers/data_adapters/py_dataset_adapter.py:121: UserWarning: Your `PyDataset` class should call `super().__init__(**kwargs)` in its constructor. `**kwargs` can include `workers`, `use_multiprocessing`, `max_queue_size`. Do not pass these arguments to `fit()`, as they will be ignored.\n",
            "  self._warn_if_super_not_called()\n"
          ]
        },
        {
          "output_type": "stream",
          "name": "stdout",
          "text": [
            "\u001b[1m1875/1875\u001b[0m \u001b[32m━━━━━━━━━━━━━━━━━━━━\u001b[0m\u001b[37m\u001b[0m \u001b[1m289s\u001b[0m 152ms/step - accuracy: 0.8259 - loss: 0.5659 - val_accuracy: 0.9869 - val_loss: 0.0417\n",
            "Epoch 2/10\n",
            "\u001b[1m1875/1875\u001b[0m \u001b[32m━━━━━━━━━━━━━━━━━━━━\u001b[0m\u001b[37m\u001b[0m \u001b[1m319s\u001b[0m 150ms/step - accuracy: 0.9593 - loss: 0.1381 - val_accuracy: 0.9881 - val_loss: 0.0400\n",
            "Epoch 3/10\n",
            "\u001b[1m1875/1875\u001b[0m \u001b[32m━━━━━━━━━━━━━━━━━━━━\u001b[0m\u001b[37m\u001b[0m \u001b[1m278s\u001b[0m 148ms/step - accuracy: 0.9654 - loss: 0.1143 - val_accuracy: 0.9921 - val_loss: 0.0226\n",
            "Epoch 4/10\n",
            "\u001b[1m1875/1875\u001b[0m \u001b[32m━━━━━━━━━━━━━━━━━━━━\u001b[0m\u001b[37m\u001b[0m \u001b[1m322s\u001b[0m 149ms/step - accuracy: 0.9728 - loss: 0.0889 - val_accuracy: 0.9935 - val_loss: 0.0187\n",
            "Epoch 5/10\n",
            "\u001b[1m1875/1875\u001b[0m \u001b[32m━━━━━━━━━━━━━━━━━━━━\u001b[0m\u001b[37m\u001b[0m \u001b[1m280s\u001b[0m 149ms/step - accuracy: 0.9762 - loss: 0.0789 - val_accuracy: 0.9936 - val_loss: 0.0200\n",
            "Epoch 6/10\n",
            "\u001b[1m1875/1875\u001b[0m \u001b[32m━━━━━━━━━━━━━━━━━━━━\u001b[0m\u001b[37m\u001b[0m \u001b[1m320s\u001b[0m 149ms/step - accuracy: 0.9784 - loss: 0.0707 - val_accuracy: 0.9933 - val_loss: 0.0198\n",
            "Epoch 7/10\n",
            "\u001b[1m1875/1875\u001b[0m \u001b[32m━━━━━━━━━━━━━━━━━━━━\u001b[0m\u001b[37m\u001b[0m \u001b[1m323s\u001b[0m 149ms/step - accuracy: 0.9788 - loss: 0.0733 - val_accuracy: 0.9950 - val_loss: 0.0158\n",
            "Epoch 8/10\n",
            "\u001b[1m1875/1875\u001b[0m \u001b[32m━━━━━━━━━━━━━━━━━━━━\u001b[0m\u001b[37m\u001b[0m \u001b[1m320s\u001b[0m 148ms/step - accuracy: 0.9820 - loss: 0.0595 - val_accuracy: 0.9933 - val_loss: 0.0206\n",
            "Epoch 9/10\n",
            "\u001b[1m1875/1875\u001b[0m \u001b[32m━━━━━━━━━━━━━━━━━━━━\u001b[0m\u001b[37m\u001b[0m \u001b[1m278s\u001b[0m 148ms/step - accuracy: 0.9824 - loss: 0.0577 - val_accuracy: 0.9951 - val_loss: 0.0163\n",
            "Epoch 10/10\n",
            "\u001b[1m1875/1875\u001b[0m \u001b[32m━━━━━━━━━━━━━━━━━━━━\u001b[0m\u001b[37m\u001b[0m \u001b[1m278s\u001b[0m 148ms/step - accuracy: 0.9825 - loss: 0.0589 - val_accuracy: 0.9950 - val_loss: 0.0156\n"
          ]
        }
      ]
    },
    {
      "cell_type": "markdown",
      "source": [
        "## Model Evaluation"
      ],
      "metadata": {
        "id": "X1MxMFg3KsvC"
      }
    },
    {
      "cell_type": "code",
      "source": [
        "# Evaluate the model\n",
        "test_loss, test_acc = model.evaluate(x_test, y_test)\n",
        "print(f\"Test Accuracy: {test_acc * 100:.2f}%\")"
      ],
      "metadata": {
        "colab": {
          "base_uri": "https://localhost:8080/"
        },
        "id": "aC2riXe7smRN",
        "outputId": "330409fb-8c0b-4041-c2db-2032df2ec933"
      },
      "execution_count": 9,
      "outputs": [
        {
          "output_type": "stream",
          "name": "stdout",
          "text": [
            "\u001b[1m313/313\u001b[0m \u001b[32m━━━━━━━━━━━━━━━━━━━━\u001b[0m\u001b[37m\u001b[0m \u001b[1m10s\u001b[0m 33ms/step - accuracy: 0.9931 - loss: 0.0181\n",
            "Test Accuracy: 99.50%\n"
          ]
        }
      ]
    },
    {
      "cell_type": "code",
      "source": [
        "# Plot accuracy and loss over epochs\n",
        "plt.figure(figsize=(12, 4))"
      ],
      "metadata": {
        "colab": {
          "base_uri": "https://localhost:8080/",
          "height": 52
        },
        "id": "mwnvCxdfGosC",
        "outputId": "727212a9-627e-4275-f7cd-997d0e47d913"
      },
      "execution_count": 10,
      "outputs": [
        {
          "output_type": "execute_result",
          "data": {
            "text/plain": [
              "<Figure size 1200x400 with 0 Axes>"
            ]
          },
          "metadata": {},
          "execution_count": 10
        },
        {
          "output_type": "display_data",
          "data": {
            "text/plain": [
              "<Figure size 1200x400 with 0 Axes>"
            ]
          },
          "metadata": {}
        }
      ]
    },
    {
      "cell_type": "code",
      "source": [
        "# Accuracy plot\n",
        "plt.subplot(1, 2, 1)\n",
        "plt.plot(history.history['accuracy'], label='Train Accuracy')\n",
        "plt.plot(history.history['val_accuracy'], label='Test Accuracy')\n",
        "plt.title('Accuracy over Epochs')\n",
        "plt.xlabel('Epochs')\n",
        "plt.ylabel('Accuracy')\n",
        "plt.legend()"
      ],
      "metadata": {
        "colab": {
          "base_uri": "https://localhost:8080/",
          "height": 489
        },
        "id": "RMZjr05OGtIa",
        "outputId": "f547189c-2be0-494c-d433-bd78d89b5422"
      },
      "execution_count": 11,
      "outputs": [
        {
          "output_type": "execute_result",
          "data": {
            "text/plain": [
              "<matplotlib.legend.Legend at 0x7eb017f915d0>"
            ]
          },
          "metadata": {},
          "execution_count": 11
        },
        {
          "output_type": "display_data",
          "data": {
            "text/plain": [
              "<Figure size 640x480 with 1 Axes>"
            ],
            "image/png": "[encoded data removed]"
          },
          "metadata": {}
        }
      ]
    },
    {
      "cell_type": "code",
      "source": [
        "# Loss plot\n",
        "plt.subplot(1, 2, 2)\n",
        "plt.plot(history.history['loss'], label='Train Loss')\n",
        "plt.plot(history.history['val_loss'], label='Test Loss')\n",
        "plt.title('Loss over Epochs')\n",
        "plt.xlabel('Epochs')\n",
        "plt.ylabel('Loss')\n",
        "plt.legend()\n",
        "\n",
        "plt.show()"
      ],
      "metadata": {
        "colab": {
          "base_uri": "https://localhost:8080/",
          "height": 472
        },
        "id": "tsoT50xPG0CM",
        "outputId": "af96e909-e81d-4796-c3b9-b76caaae9335"
      },
      "execution_count": 12,
      "outputs": [
        {
          "output_type": "display_data",
          "data": {
            "text/plain": [
              "<Figure size 640x480 with 1 Axes>"
            ],
            "image/png": "[encoded data removed]"
          },
          "metadata": {}
        }
      ]
    },
    {
      "cell_type": "code",
      "source": [
        "# Confusion matrix\n",
        "y_pred = np.argmax(model.predict(x_test), axis=-1)\n",
        "cm = confusion_matrix(y_test, y_pred)\n",
        "print(\"Confusion Matrix:\\n\", cm)"
      ],
      "metadata": {
        "colab": {
          "base_uri": "https://localhost:8080/"
        },
        "id": "vC4B5jppG4cV",
        "outputId": "f0c98e5f-6dfb-47d8-d9ba-9df88e5418e9"
      },
      "execution_count": 13,
      "outputs": [
        {
          "output_type": "stream",
          "name": "stdout",
          "text": [
            "\u001b[1m313/313\u001b[0m \u001b[32m━━━━━━━━━━━━━━━━━━━━\u001b[0m\u001b[37m\u001b[0m \u001b[1m11s\u001b[0m 33ms/step\n",
            "Confusion Matrix:\n",
            " [[ 979    0    0    0    0    0    0    1    0    0]\n",
            " [   0 1134    0    1    0    0    0    0    0    0]\n",
            " [   2    1 1026    1    0    0    0    2    0    0]\n",
            " [   0    0    0 1006    0    4    0    0    0    0]\n",
            " [   0    1    0    0  976    0    2    0    0    3]\n",
            " [   0    0    0    3    0  888    1    0    0    0]\n",
            " [   1    3    0    0    0    2  952    0    0    0]\n",
            " [   0    3    1    0    0    0    0 1024    0    0]\n",
            " [   2    0    2    1    1    0    2    0  964    2]\n",
            " [   0    0    0    0    5    1    0    2    0 1001]]\n"
          ]
        }
      ]
    },
    {
      "cell_type": "code",
      "source": [
        "# Classification report\n",
        "print(\"Classification Report:\\n\", classification_report(y_test, y_pred))"
      ],
      "metadata": {
        "colab": {
          "base_uri": "https://localhost:8080/"
        },
        "id": "SrUFfmJMHAIG",
        "outputId": "38f2a7bb-0784-4b4d-f104-cfcc603e5cf2"
      },
      "execution_count": 14,
      "outputs": [
        {
          "output_type": "stream",
          "name": "stdout",
          "text": [
            "Classification Report:\n",
            "               precision    recall  f1-score   support\n",
            "\n",
            "           0       0.99      1.00      1.00       980\n",
            "           1       0.99      1.00      1.00      1135\n",
            "           2       1.00      0.99      1.00      1032\n",
            "           3       0.99      1.00      1.00      1010\n",
            "           4       0.99      0.99      0.99       982\n",
            "           5       0.99      1.00      0.99       892\n",
            "           6       0.99      0.99      0.99       958\n",
            "           7       1.00      1.00      1.00      1028\n",
            "           8       1.00      0.99      0.99       974\n",
            "           9       1.00      0.99      0.99      1009\n",
            "\n",
            "    accuracy                           0.99     10000\n",
            "   macro avg       1.00      0.99      0.99     10000\n",
            "weighted avg       1.00      0.99      0.99     10000\n",
            "\n"
          ]
        }
      ]
    },
    {
      "cell_type": "code",
      "source": [
        "# Save the model in HDF5 format\n",
        "model.save('cnn_mnist_model.h5')\n",
        "print(\"Model saved as cnn_mnist_model.h5\")"
      ],
      "metadata": {
        "colab": {
          "base_uri": "https://localhost:8080/"
        },
        "id": "eNDq1X8xHJhc",
        "outputId": "0833c40a-8de6-4ea1-9ecf-d71641edb6e1"
      },
      "execution_count": 15,
      "outputs": [
        {
          "output_type": "stream",
          "name": "stderr",
          "text": [
            "WARNING:absl:You are saving your model as an HDF5 file via `model.save()` or `keras.saving.save_model(model)`. This file format is considered legacy. We recommend using instead the native Keras format, e.g. `model.save('my_model.keras')` or `keras.saving.save_model(model, 'my_model.keras')`. \n"
          ]
        },
        {
          "output_type": "stream",
          "name": "stdout",
          "text": [
            "Model saved as cnn_mnist_model.h5\n"
          ]
        }
      ]
    },
    {
      "cell_type": "markdown",
      "source": [
        "## Exporting the Model"
      ],
      "metadata": {
        "id": "v3CWR_zKKyh4"
      }
    },
    {
      "cell_type": "code",
      "source": [
        "# Save the model in the .keras format\n",
        "model.save('cnn_mnist_model.keras')\n",
        "print(\"Model saved as cnn_mnist_model.keras\")"
      ],
      "metadata": {
        "colab": {
          "base_uri": "https://localhost:8080/"
        },
        "id": "oFAxS5QCHQbh",
        "outputId": "310f46f9-590a-4309-f10d-6db66e51239d"
      },
      "execution_count": 17,
      "outputs": [
        {
          "output_type": "stream",
          "name": "stdout",
          "text": [
            "Model saved as cnn_mnist_model.keras\n"
          ]
        }
      ]
    },
    {
      "cell_type": "code",
      "source": [
        "# Export the model in the TensorFlow SavedModel format\n",
        "model.export('saved_model/cnn_mnist_model')\n",
        "print(\"Model exported to 'saved_model/cnn_mnist_model'\")"
      ],
      "metadata": {
        "colab": {
          "base_uri": "https://localhost:8080/"
        },
        "id": "5rYpMOhdH4GU",
        "outputId": "b4f015c5-fa36-4d28-d95f-2974a1392a0b"
      },
      "execution_count": 18,
      "outputs": [
        {
          "output_type": "stream",
          "name": "stdout",
          "text": [
            "Saved artifact at 'saved_model/cnn_mnist_model'. The following endpoints are available:\n",
            "\n",
            "* Endpoint 'serve'\n",
            "  args_0 (POSITIONAL_ONLY): TensorSpec(shape=(None, 28, 28, 1), dtype=tf.float32, name='keras_tensor')\n",
            "Output Type:\n",
            "  TensorSpec(shape=(None, 10), dtype=tf.float32, name=None)\n",
            "Captures:\n",
            "  139295388422160: TensorSpec(shape=(), dtype=tf.resource, name=None)\n",
            "  139295388425856: TensorSpec(shape=(), dtype=tf.resource, name=None)\n",
            "  139295388422864: TensorSpec(shape=(), dtype=tf.resource, name=None)\n",
            "  139295388427264: TensorSpec(shape=(), dtype=tf.resource, name=None)\n",
            "  139295388425504: TensorSpec(shape=(), dtype=tf.resource, name=None)\n",
            "  139295388425680: TensorSpec(shape=(), dtype=tf.resource, name=None)\n",
            "  139295388428848: TensorSpec(shape=(), dtype=tf.resource, name=None)\n",
            "  139295388431136: TensorSpec(shape=(), dtype=tf.resource, name=None)\n",
            "  139295388424448: TensorSpec(shape=(), dtype=tf.resource, name=None)\n",
            "  139295388431664: TensorSpec(shape=(), dtype=tf.resource, name=None)\n",
            "  139295388427968: TensorSpec(shape=(), dtype=tf.resource, name=None)\n",
            "  139295388430080: TensorSpec(shape=(), dtype=tf.resource, name=None)\n",
            "  139295388433776: TensorSpec(shape=(), dtype=tf.resource, name=None)\n",
            "  139295388426208: TensorSpec(shape=(), dtype=tf.resource, name=None)\n",
            "  139295388600624: TensorSpec(shape=(), dtype=tf.resource, name=None)\n",
            "  139295388599920: TensorSpec(shape=(), dtype=tf.resource, name=None)\n",
            "  139295388419696: TensorSpec(shape=(), dtype=tf.resource, name=None)\n",
            "  139295388598512: TensorSpec(shape=(), dtype=tf.resource, name=None)\n",
            "  139295388602208: TensorSpec(shape=(), dtype=tf.resource, name=None)\n",
            "  139295388605024: TensorSpec(shape=(), dtype=tf.resource, name=None)\n",
            "  139295388603264: TensorSpec(shape=(), dtype=tf.resource, name=None)\n",
            "  139295388605728: TensorSpec(shape=(), dtype=tf.resource, name=None)\n",
            "  139295388602384: TensorSpec(shape=(), dtype=tf.resource, name=None)\n",
            "  139295388605552: TensorSpec(shape=(), dtype=tf.resource, name=None)\n",
            "  139295388603088: TensorSpec(shape=(), dtype=tf.resource, name=None)\n",
            "  139295388609776: TensorSpec(shape=(), dtype=tf.resource, name=None)\n",
            "Model exported to 'saved_model/cnn_mnist_model'\n"
          ]
        }
      ]
    },
    {
      "cell_type": "markdown",
      "source": [
        "## Testing"
      ],
      "metadata": {
        "id": "UWpVoAzHJn3f"
      }
    },
    {
      "cell_type": "code",
      "source": [
        "import tensorflow as tf\n",
        "import numpy as np\n",
        "from tensorflow.keras.preprocessing import image\n",
        "import matplotlib.pyplot as plt\n",
        "\n",
        "# Load the saved model\n",
        "model = tf.keras.models.load_model('cnn_mnist_model.keras')\n",
        "\n",
        "# Function to preprocess the image\n",
        "def preprocess_image(img_path):\n",
        "    # Load the image in grayscale mode, resize to 28x28 pixels (MNIST format)\n",
        "    img = image.load_img(img_path, target_size=(28, 28), color_mode=\"grayscale\")\n",
        "\n",
        "    # Convert the image to a numpy array\n",
        "    img_array = image.img_to_array(img)\n",
        "\n",
        "    # Normalize the image (same as during training)\n",
        "    img_array = img_array / 255.0\n",
        "\n",
        "    # Expand dimensions to match the input shape of the model (1, 28, 28, 1)\n",
        "    img_array = np.expand_dims(img_array, axis=0)\n",
        "\n",
        "    return img_array\n",
        "\n",
        "# Path to the image you want to test\n",
        "img_path = 'test_image/test_image3.png'\n",
        "\n",
        "# Preprocess the image\n",
        "img_array = preprocess_image(img_path)\n",
        "\n",
        "# Make a prediction\n",
        "prediction = model.predict(img_array)\n",
        "\n",
        "# Output the predicted class\n",
        "predicted_class = np.argmax(prediction, axis=1)\n",
        "print(f\"Predicted class: {predicted_class[0]}\")\n",
        "\n",
        "# Optionally, show the image\n",
        "plt.imshow(image.load_img(img_path, target_size=(28, 28), color_mode=\"grayscale\"), cmap='gray')\n",
        "plt.title(f\"Predicted Class: {predicted_class[0]}\")\n",
        "plt.show()\n"
      ],
      "metadata": {
        "colab": {
          "base_uri": "https://localhost:8080/",
          "height": 524
        },
        "id": "J4Rx67YgJqF3",
        "outputId": "ed384c5d-32f9-48cc-fae8-114ad8661463"
      },
      "execution_count": 21,
      "outputs": [
        {
          "output_type": "stream",
          "name": "stderr",
          "text": [
            "WARNING:tensorflow:5 out of the last 316 calls to <function TensorFlowTrainer.make_predict_function.<locals>.one_step_on_data_distributed at 0x7eb017958af0> triggered tf.function retracing. Tracing is expensive and the excessive number of tracings could be due to (1) creating @tf.function repeatedly in a loop, (2) passing tensors with different shapes, (3) passing Python objects instead of tensors. For (1), please define your @tf.function outside of the loop. For (2), @tf.function has reduce_retracing=True option that can avoid unnecessary retracing. For (3), please refer to https://www.tensorflow.org/guide/function#controlling_retracing and https://www.tensorflow.org/api_docs/python/tf/function for  more details.\n"
          ]
        },
        {
          "output_type": "stream",
          "name": "stdout",
          "text": [
            "\u001b[1m1/1\u001b[0m \u001b[32m━━━━━━━━━━━━━━━━━━━━\u001b[0m\u001b[37m\u001b[0m \u001b[1m0s\u001b[0m 147ms/step\n",
            "Predicted class: 5\n"
          ]
        },
        {
          "output_type": "display_data",
          "data": {
            "text/plain": [
              "<Figure size 640x480 with 1 Axes>"
            ],
            "image/png": "[encoded data removed]"
          },
          "metadata": {}
        }
      ]
    }
  ]
}